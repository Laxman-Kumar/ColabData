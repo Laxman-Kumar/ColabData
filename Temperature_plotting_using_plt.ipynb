{
  "nbformat": 4,
  "nbformat_minor": 0,
  "metadata": {
    "colab": {
      "name": "Temperature_plotting using plt.ipynb",
      "version": "0.3.2",
      "provenance": [],
      "include_colab_link": true
    },
    "kernelspec": {
      "display_name": "Python 3",
      "language": "python",
      "name": "python3"
    }
  },
  "cells": [
    {
      "cell_type": "markdown",
      "metadata": {
        "id": "view-in-github",
        "colab_type": "text"
      },
      "source": [
        "<a href=\"https://colab.research.google.com/github/Laxman007/ColabData/blob/master/Temperature_plotting_using_plt.ipynb\" target=\"_parent\"><img src=\"https://colab.research.google.com/assets/colab-badge.svg\" alt=\"Open In Colab\"/></a>"
      ]
    },
    {
      "metadata": {
        "id": "CaMBIOklkffO",
        "colab_type": "code",
        "colab": {}
      },
      "cell_type": "code",
      "source": [
        "import pandas as pd\n",
        "import matplotlib.pyplot as plt\n",
        "import datetime\n"
      ],
      "execution_count": 0,
      "outputs": []
    },
    {
      "metadata": {
        "id": "oSMZyifVkffS",
        "colab_type": "code",
        "colab": {}
      },
      "cell_type": "code",
      "source": [
        "df = pd.read_csv('Local_Weather_Data.csv')\n",
        "df = df[['DateTime','TempOut']]\n",
        "df[\"DateTime\"]=df[\"DateTime\"].apply(lambda x: x[:2]+x[6:10])"
      ],
      "execution_count": 0,
      "outputs": []
    },
    {
      "metadata": {
        "id": "lgDkx9qvkffV",
        "colab_type": "code",
        "colab": {}
      },
      "cell_type": "code",
      "source": [
        "import numpy as np\n",
        "data = []\n",
        "for group,frame in df.groupby('DateTime'):\n",
        "    #print(frame['TempOut'])\n",
        "    avg = np.max(frame['TempOut'])\n",
        "    mins = np.min(frame['TempOut'])\n",
        "    data.append([group,mins,avg])"
      ],
      "execution_count": 0,
      "outputs": []
    },
    {
      "metadata": {
        "id": "6bhwmSapkffY",
        "colab_type": "code",
        "colab": {}
      },
      "cell_type": "code",
      "source": [
        "df = pd.DataFrame(data,columns=['Date','Min','Max'])"
      ],
      "execution_count": 0,
      "outputs": []
    },
    {
      "metadata": {
        "id": "1vwTGMQLkffa",
        "colab_type": "code",
        "colab": {}
      },
      "cell_type": "code",
      "source": [
        "months = ['2005','2006','2007','2008','2009','2010','2011','2012','2013','2014','2015','2016']"
      ],
      "execution_count": 0,
      "outputs": []
    },
    {
      "metadata": {
        "id": "xhd1dG3Lkfff",
        "colab_type": "code",
        "colab": {}
      },
      "cell_type": "code",
      "source": [
        "df=df.loc[[0,2,4,6,7,8,10,12,14,16,18,20],:].reset_index()"
      ],
      "execution_count": 0,
      "outputs": []
    },
    {
      "metadata": {
        "id": "PPpRGC9Ekffi",
        "colab_type": "code",
        "colab": {}
      },
      "cell_type": "code",
      "source": [
        "del df['index']"
      ],
      "execution_count": 0,
      "outputs": []
    },
    {
      "metadata": {
        "id": "V_yypR3tkffo",
        "colab_type": "code",
        "colab": {}
      },
      "cell_type": "code",
      "source": [
        "for i in range(0,len(df)):\n",
        "    df['Date'].replace( df['Date'][i],months[i],inplace=True)"
      ],
      "execution_count": 0,
      "outputs": []
    },
    {
      "metadata": {
        "id": "k3xt1DHRkffu",
        "colab_type": "code",
        "colab": {}
      },
      "cell_type": "code",
      "source": [
        ""
      ],
      "execution_count": 0,
      "outputs": []
    },
    {
      "metadata": {
        "id": "QxDzX1tHkffy",
        "colab_type": "code",
        "colab": {}
      },
      "cell_type": "code",
      "source": [
        ""
      ],
      "execution_count": 0,
      "outputs": []
    },
    {
      "metadata": {
        "id": "RPx7z8WVkff1",
        "colab_type": "code",
        "colab": {}
      },
      "cell_type": "code",
      "source": [
        "fig, (ax1) = plt.subplots(1, 1, sharex=True)"
      ],
      "execution_count": 0,
      "outputs": []
    },
    {
      "metadata": {
        "id": "92dgv6hYkff5",
        "colab_type": "code",
        "colab": {},
        "outputId": "f3b4a331-a8be-4ecf-f65b-629d80e32000"
      },
      "cell_type": "code",
      "source": [
        "ax1.plot(df['Max'],'-o',df['Min'],'-o')\n",
        "ax1.legend(['Maximum', 'Minimum'])\n",
        "ax1.fill_between(range(len(df['Date'])), df['Max'], df['Min'] ,facecolor='yellow', interpolate=True)\n",
        "plt.xlabel('Year')\n",
        "plt.ylabel('Temperature (F)')\n",
        "plt.title('Syracuse Temperature Report from 2005-2016')\n",
        "plt.grid(True)\n",
        "for spine in plt.gca().spines.values():\n",
        "    spine.set_visible(False)\n",
        "plt.show()\n",
        "plt.savefig('week2.png')"
      ],
      "execution_count": 0,
      "outputs": [
        {
          "output_type": "display_data",
          "data": {
            "text/plain": [
              "<matplotlib.figure.Figure at 0x7f3d11822c50>"
            ]
          },
          "metadata": {
            "tags": []
          }
        },
        {
          "output_type": "display_data",
          "data": {
            "image/png": "[encoded data removed]",
            "text/plain": [
              "<matplotlib.figure.Figure at 0x7f3d0c27b1d0>"
            ]
          },
          "metadata": {
            "tags": []
          }
        }
      ]
    },
    {
      "metadata": {
        "id": "b4EB5--0kfgA",
        "colab_type": "code",
        "colab": {}
      },
      "cell_type": "code",
      "source": [
        "\n"
      ],
      "execution_count": 0,
      "outputs": []
    }
  ]
}