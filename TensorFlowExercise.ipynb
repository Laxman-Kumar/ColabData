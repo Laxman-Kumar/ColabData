{
  "nbformat": 4,
  "nbformat_minor": 0,
  "metadata": {
    "colab": {
      "name": "tensorflow_examples_from_video.ipynb",
      "version": "0.3.2",
      "provenance": [],
      "include_colab_link": true
    },
    "kernelspec": {
      "display_name": "Python 3",
      "language": "python",
      "name": "python3"
    }
  },
  "cells": [
    {
      "cell_type": "markdown",
      "metadata": {
        "id": "view-in-github",
        "colab_type": "text"
      },
      "source": [
        "<a href=\"https://colab.research.google.com/github/Laxman007/ColabData/blob/master/TensorFlowExercise.ipynb\" target=\"_parent\"><img src=\"https://colab.research.google.com/assets/colab-badge.svg\" alt=\"Open In Colab\"/></a>"
      ]
    },
    {
      "metadata": {
        "id": "h1rnlH-65WG0",
        "colab_type": "text"
      },
      "cell_type": "markdown",
      "source": [
        "# Video \"What is TensorFlow\""
      ]
    },
    {
      "metadata": {
        "id": "Ipx82fTK5WG2",
        "colab_type": "code",
        "colab": {}
      },
      "cell_type": "code",
      "source": [
        "%config IPCompleter.greedy=True"
      ],
      "execution_count": 0,
      "outputs": []
    },
    {
      "metadata": {
        "id": "FQ_Jn26x5WG6",
        "colab_type": "code",
        "colab": {
          "base_uri": "https://localhost:8080/",
          "height": 34
        },
        "outputId": "0cb68ffd-aa25-4b6f-ebf1-31200972b7ed"
      },
      "cell_type": "code",
      "source": [
        "import tensorflow as tf\n",
        "import numpy as np\n",
        "print(tf.__version__)"
      ],
      "execution_count": 2,
      "outputs": [
        {
          "output_type": "stream",
          "text": [
            "1.13.1\n"
          ],
          "name": "stdout"
        }
      ]
    },
    {
      "metadata": {
        "id": "590RECNQ5WHA",
        "colab_type": "code",
        "colab": {
          "base_uri": "https://localhost:8080/",
          "height": 88
        },
        "outputId": "8a938eed-9c2b-4c88-a641-577ae7923b36"
      },
      "cell_type": "code",
      "source": [
        "tf.reset_default_graph()\n",
        "a = tf.placeholder(np.float32, (2, 2))\n",
        "b = tf.Variable(tf.ones((2, 2)))\n",
        "c = a @ b"
      ],
      "execution_count": 3,
      "outputs": [
        {
          "output_type": "stream",
          "text": [
            "WARNING:tensorflow:From /usr/local/lib/python3.6/dist-packages/tensorflow/python/framework/op_def_library.py:263: colocate_with (from tensorflow.python.framework.ops) is deprecated and will be removed in a future version.\n",
            "Instructions for updating:\n",
            "Colocations handled automatically by placer.\n"
          ],
          "name": "stdout"
        }
      ]
    },
    {
      "metadata": {
        "id": "mWLJ9QBt5WHD",
        "colab_type": "code",
        "colab": {
          "base_uri": "https://localhost:8080/",
          "height": 34
        },
        "outputId": "becd6508-2509-424c-8cb8-47b119f4c01b"
      },
      "cell_type": "code",
      "source": [
        "print(c)"
      ],
      "execution_count": 4,
      "outputs": [
        {
          "output_type": "stream",
          "text": [
            "Tensor(\"matmul:0\", shape=(2, 2), dtype=float32)\n"
          ],
          "name": "stdout"
        }
      ]
    },
    {
      "metadata": {
        "id": "knXU30JH5WHI",
        "colab_type": "code",
        "colab": {}
      },
      "cell_type": "code",
      "source": [
        "s = tf.InteractiveSession()"
      ],
      "execution_count": 0,
      "outputs": []
    },
    {
      "metadata": {
        "id": "_19P_J_25WHL",
        "colab_type": "code",
        "colab": {
          "base_uri": "https://localhost:8080/",
          "height": 51
        },
        "outputId": "dab90d0e-0e52-47e6-ee61-3af05f49c272"
      },
      "cell_type": "code",
      "source": [
        "s.run(tf.global_variables_initializer())\n",
        "s.run(c, feed_dict={a: np.ones((2, 2))})"
      ],
      "execution_count": 6,
      "outputs": [
        {
          "output_type": "execute_result",
          "data": {
            "text/plain": [
              "array([[2., 2.],\n",
              "       [2., 2.]], dtype=float32)"
            ]
          },
          "metadata": {
            "tags": []
          },
          "execution_count": 6
        }
      ]
    },
    {
      "metadata": {
        "id": "z76iEd8L5WHP",
        "colab_type": "code",
        "colab": {}
      },
      "cell_type": "code",
      "source": [
        "s.close()"
      ],
      "execution_count": 0,
      "outputs": []
    },
    {
      "metadata": {
        "id": "N6S45yHt5WHS",
        "colab_type": "text"
      },
      "cell_type": "markdown",
      "source": [
        "# Video \"Our first model in TensorFlow\""
      ]
    },
    {
      "metadata": {
        "id": "kluOFpUK5WHT",
        "colab_type": "text"
      },
      "cell_type": "markdown",
      "source": [
        "### Simple optimization (with simple prints)"
      ]
    },
    {
      "metadata": {
        "id": "wa_xU_WX5WHU",
        "colab_type": "code",
        "colab": {}
      },
      "cell_type": "code",
      "source": [
        "tf.reset_default_graph()\n",
        "x = tf.get_variable(\"x\", shape=(), dtype=tf.float32, trainable=True)\n",
        "f = x ** 2"
      ],
      "execution_count": 0,
      "outputs": []
    },
    {
      "metadata": {
        "id": "seJ8S_bj5WHX",
        "colab_type": "code",
        "colab": {}
      },
      "cell_type": "code",
      "source": [
        "optimizer = tf.train.GradientDescentOptimizer(0.1)\n",
        "step = optimizer.minimize(f, var_list=[x])"
      ],
      "execution_count": 0,
      "outputs": []
    },
    {
      "metadata": {
        "id": "Ch7cVsrK5WHc",
        "colab_type": "code",
        "colab": {},
        "outputId": "8c930c36-3a08-4682-889a-6c672393ab03"
      },
      "cell_type": "code",
      "source": [
        "tf.trainable_variables()"
      ],
      "execution_count": 0,
      "outputs": [
        {
          "output_type": "execute_result",
          "data": {
            "text/plain": [
              "[<tf.Variable 'x:0' shape=() dtype=float32_ref>]"
            ]
          },
          "metadata": {
            "tags": []
          },
          "execution_count": 10
        }
      ]
    },
    {
      "metadata": {
        "id": "fCfTfhRr5WHg",
        "colab_type": "code",
        "colab": {},
        "outputId": "cb13e285-304a-4aa4-8559-25f86f00f6f1"
      },
      "cell_type": "code",
      "source": [
        "with tf.Session() as s:  # in this way session will be closed automatically\n",
        "    s.run(tf.global_variables_initializer())\n",
        "    for i in range(10):\n",
        "        _, curr_x, curr_f = s.run([step, x, f])\n",
        "        print(curr_x, curr_f)"
      ],
      "execution_count": 0,
      "outputs": [
        {
          "output_type": "stream",
          "text": [
            "-0.865988 1.17177\n",
            "-0.69279 0.749935\n",
            "-0.554232 0.479959\n",
            "-0.443386 0.307174\n",
            "-0.354709 0.196591\n",
            "-0.283767 0.125818\n",
            "-0.227014 0.0805237\n",
            "-0.181611 0.0515352\n",
            "-0.145289 0.0329825\n",
            "-0.116231 0.0211088\n"
          ],
          "name": "stdout"
        }
      ]
    },
    {
      "metadata": {
        "id": "6jCe9nTc5WHk",
        "colab_type": "text"
      },
      "cell_type": "markdown",
      "source": [
        "### Simple optimization (with tf.Print)"
      ]
    },
    {
      "metadata": {
        "id": "86YgyoKg5WHl",
        "colab_type": "code",
        "colab": {}
      },
      "cell_type": "code",
      "source": [
        "tf.reset_default_graph()\n",
        "x = tf.get_variable(\"x\", shape=(), dtype=tf.float32)\n",
        "f = x ** 2\n",
        "f = tf.Print(f, [x, f], \"x, f:\")"
      ],
      "execution_count": 0,
      "outputs": []
    },
    {
      "metadata": {
        "id": "diPhAoUx5WHo",
        "colab_type": "code",
        "colab": {}
      },
      "cell_type": "code",
      "source": [
        "optimizer = tf.train.GradientDescentOptimizer(0.1)\n",
        "step = optimizer.minimize(f)"
      ],
      "execution_count": 0,
      "outputs": []
    },
    {
      "metadata": {
        "id": "MLOxlpa05WHs",
        "colab_type": "code",
        "colab": {}
      },
      "cell_type": "code",
      "source": [
        "with tf.Session() as s:\n",
        "    s.run(tf.global_variables_initializer())\n",
        "    for i in range(10):\n",
        "        s.run([step, f])"
      ],
      "execution_count": 0,
      "outputs": []
    },
    {
      "metadata": {
        "id": "lQb2H-cO5WHw",
        "colab_type": "code",
        "colab": {}
      },
      "cell_type": "code",
      "source": [
        "# Prints to jupyter server stdout (not available in Coursera Notebooks):\n",
        "# 2018-07-21 18:01:27.308270: I tensorflow/core/kernels/logging_ops.cc:79] x, f:[-1.0670249][1.1385423]\n",
        "# 2018-07-21 18:01:27.308809: I tensorflow/core/kernels/logging_ops.cc:79] x, f:[-0.85361993][0.72866696]\n",
        "# 2018-07-21 18:01:27.309116: I tensorflow/core/kernels/logging_ops.cc:79] x, f:[-0.68289596][0.46634689]\n",
        "# 2018-07-21 18:01:27.309388: I tensorflow/core/kernels/logging_ops.cc:79] x, f:[-0.54631674][0.29846197]\n",
        "# 2018-07-21 18:01:27.309678: I tensorflow/core/kernels/logging_ops.cc:79] x, f:[-0.43705338][0.19101566]\n",
        "# 2018-07-21 18:01:27.309889: I tensorflow/core/kernels/logging_ops.cc:79] x, f:[-0.34964269][0.12225001]\n",
        "# 2018-07-21 18:01:27.310213: I tensorflow/core/kernels/logging_ops.cc:79] x, f:[-0.27971417][0.078240015]\n",
        "# 2018-07-21 18:01:27.310475: I tensorflow/core/kernels/logging_ops.cc:79] x, f:[-0.22377133][0.050073609]\n",
        "# 2018-07-21 18:01:27.310751: I tensorflow/core/kernels/logging_ops.cc:79] x, f:[-0.17901707][0.032047112]\n",
        "# 2018-07-21 18:01:27.310963: I tensorflow/core/kernels/logging_ops.cc:79] x, f:[-0.14321366][0.020510152]"
      ],
      "execution_count": 0,
      "outputs": []
    },
    {
      "metadata": {
        "id": "wgj-5Nrf5WH1",
        "colab_type": "text"
      },
      "cell_type": "markdown",
      "source": [
        "### Simple optimization (with TensorBoard logging)"
      ]
    },
    {
      "metadata": {
        "id": "9NHov4Mu5WH3",
        "colab_type": "code",
        "colab": {}
      },
      "cell_type": "code",
      "source": [
        "tf.reset_default_graph()\n",
        "x = tf.get_variable(\"x\", shape=(), dtype=tf.float32)\n",
        "f = x ** 2"
      ],
      "execution_count": 0,
      "outputs": []
    },
    {
      "metadata": {
        "id": "5lLsaY745WH7",
        "colab_type": "code",
        "colab": {}
      },
      "cell_type": "code",
      "source": [
        "optimizer = tf.train.GradientDescentOptimizer(0.1)\n",
        "step = optimizer.minimize(f)"
      ],
      "execution_count": 0,
      "outputs": []
    },
    {
      "metadata": {
        "id": "9aSkMkZ85WH-",
        "colab_type": "code",
        "colab": {}
      },
      "cell_type": "code",
      "source": [
        "tf.summary.scalar('curr_x', x)\n",
        "tf.summary.scalar('curr_f', f)\n",
        "summaries = tf.summary.merge_all()"
      ],
      "execution_count": 0,
      "outputs": []
    },
    {
      "metadata": {
        "id": "isv1Pn3W5WIA",
        "colab_type": "code",
        "colab": {}
      },
      "cell_type": "code",
      "source": [
        "s = tf.InteractiveSession()\n",
        "summary_writer = tf.summary.FileWriter(\"logs/1\", s.graph)\n",
        "s.run(tf.global_variables_initializer())\n",
        "for i in range(10):\n",
        "    _, curr_summaries = s.run([step, summaries])\n",
        "    summary_writer.add_summary(curr_summaries, i)\n",
        "    summary_writer.flush()"
      ],
      "execution_count": 0,
      "outputs": []
    },
    {
      "metadata": {
        "id": "cJQ-GgdA5WID",
        "colab_type": "text"
      },
      "cell_type": "markdown",
      "source": [
        "Run  `tensorboard --logdir=./logs` in bash"
      ]
    },
    {
      "metadata": {
        "id": "aDmCkvLs5WIE",
        "colab_type": "text"
      },
      "cell_type": "markdown",
      "source": [
        "This is what you can see in your browser **(not available in Coursera Notebooks)**\n",
        "<img src=\"images/TensorBoard.jpg\" style=\"width:70%\">"
      ]
    },
    {
      "metadata": {
        "id": "rkar3UOQ5WIF",
        "colab_type": "text"
      },
      "cell_type": "markdown",
      "source": [
        "**If you're running on Google Colab you can still run TensorBoard!**"
      ]
    },
    {
      "metadata": {
        "id": "8IksA6rK5WIG",
        "colab_type": "code",
        "colab": {}
      },
      "cell_type": "code",
      "source": [
        "# !!! RUN THIS CELL ONLY ON GOOGLE COLAB !!!\n",
        "! wget https://raw.githubusercontent.com/hse-aml/intro-to-dl/master/setup_google_colab.py -O setup_google_colab.py\n",
        "import setup_google_colab\n",
        "\n",
        "# run tensorboard in background\n",
        "import os\n",
        "os.system(\"tensorboard --logdir=./logs --host 0.0.0.0 --port 6006 &\")\n",
        "\n",
        "# expose port and show the link\n",
        "setup_google_colab.expose_port_on_colab(6006)"
      ],
      "execution_count": 0,
      "outputs": []
    },
    {
      "metadata": {
        "id": "FrceBHCj5WIJ",
        "colab_type": "code",
        "colab": {}
      },
      "cell_type": "code",
      "source": [
        "s.close()"
      ],
      "execution_count": 0,
      "outputs": []
    },
    {
      "metadata": {
        "id": "7fT2CD7-5WIM",
        "colab_type": "text"
      },
      "cell_type": "markdown",
      "source": [
        "### Training a linear model"
      ]
    },
    {
      "metadata": {
        "id": "jo0zz-ir5WIO",
        "colab_type": "code",
        "colab": {},
        "outputId": "94d7bb19-83fe-4399-abd9-367e028e0a39"
      },
      "cell_type": "code",
      "source": [
        "# generate model data\n",
        "N = 1000\n",
        "D = 3\n",
        "x = np.random.random((N, D))\n",
        "w = np.random.random((D, 1))\n",
        "y = x @ w + np.random.randn(N, 1) * 0.20\n",
        "\n",
        "print(x.shape, y.shape)\n",
        "print(w.T)"
      ],
      "execution_count": 0,
      "outputs": [
        {
          "output_type": "stream",
          "text": [
            "(1000, 3) (1000, 1)\n",
            "[[ 0.09498027  0.48793618  0.39011257]]\n"
          ],
          "name": "stdout"
        }
      ]
    },
    {
      "metadata": {
        "id": "qAJotEm-5WIS",
        "colab_type": "code",
        "colab": {},
        "outputId": "91e1c9f9-0def-4ea7-f0d1-92a873e23d26"
      },
      "cell_type": "code",
      "source": [
        "tf.reset_default_graph()\n",
        "\n",
        "features = tf.placeholder(tf.float32, shape=(None, D))\n",
        "target = tf.placeholder(tf.float32, shape=(None, 1))\n",
        "\n",
        "weights = tf.get_variable(\"weights\", shape=(D, 1), dtype=tf.float32)\n",
        "predictions = features @ weights\n",
        "\n",
        "loss = tf.reduce_mean((target - predictions) ** 2)\n",
        "\n",
        "print(target.shape, predictions.shape, loss.shape)"
      ],
      "execution_count": 0,
      "outputs": [
        {
          "output_type": "stream",
          "text": [
            "(?, 1) (?, 1) ()\n"
          ],
          "name": "stdout"
        }
      ]
    },
    {
      "metadata": {
        "id": "lFRyWP315WIV",
        "colab_type": "code",
        "colab": {}
      },
      "cell_type": "code",
      "source": [
        "optimizer = tf.train.GradientDescentOptimizer(0.1)\n",
        "step = optimizer.minimize(loss)"
      ],
      "execution_count": 0,
      "outputs": []
    },
    {
      "metadata": {
        "scrolled": true,
        "id": "S9Hx_rv05WIZ",
        "colab_type": "code",
        "colab": {},
        "outputId": "4c6dd3ce-d773-4997-9e2c-30318a1483ed"
      },
      "cell_type": "code",
      "source": [
        "with tf.Session() as s:\n",
        "    s.run(tf.global_variables_initializer())\n",
        "    for i in range(300):\n",
        "        _, curr_loss, curr_weights = s.run([step, loss, weights], \n",
        "                                           feed_dict={features: x, target: y})\n",
        "        if i % 50 == 0:\n",
        "            print(curr_loss)"
      ],
      "execution_count": 0,
      "outputs": [
        {
          "output_type": "stream",
          "text": [
            "0.532865\n",
            "0.0458802\n",
            "0.0410158\n",
            "0.040087\n",
            "0.0399092\n",
            "0.0398751\n"
          ],
          "name": "stdout"
        }
      ]
    },
    {
      "metadata": {
        "id": "I02MWNKQ5WIc",
        "colab_type": "code",
        "colab": {}
      },
      "cell_type": "code",
      "source": [
        "# found weights\n",
        "curr_weights.T"
      ],
      "execution_count": 0,
      "outputs": []
    },
    {
      "metadata": {
        "id": "RkKK79YX5WIe",
        "colab_type": "code",
        "colab": {}
      },
      "cell_type": "code",
      "source": [
        "# true weights\n",
        "w.T"
      ],
      "execution_count": 0,
      "outputs": []
    }
  ]
}