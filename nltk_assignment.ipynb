{
  "nbformat": 4,
  "nbformat_minor": 0,
  "metadata": {
    "colab": {
      "name": "nltk_assignment.ipynb",
      "version": "0.3.2",
      "provenance": [],
      "collapsed_sections": [],
      "include_colab_link": true
    },
    "language_info": {
      "codemirror_mode": {
        "name": "ipython",
        "version": 3
      },
      "file_extension": ".py",
      "mimetype": "text/x-python",
      "name": "python",
      "nbconvert_exporter": "python",
      "pygments_lexer": "ipython3",
      "version": "3.6.2"
    },
    "kernelspec": {
      "display_name": "Python 3",
      "language": "python",
      "name": "python3"
    }
  },
  "cells": [
    {
      "cell_type": "markdown",
      "metadata": {
        "id": "view-in-github",
        "colab_type": "text"
      },
      "source": [
        "<a href=\"https://colab.research.google.com/github/Laxman007/ColabData/blob/master/nltk_assignment.ipynb\" target=\"_parent\"><img src=\"https://colab.research.google.com/assets/colab-badge.svg\" alt=\"Open In Colab\"/></a>"
      ]
    },
    {
      "cell_type": "markdown",
      "metadata": {
        "id": "JXX2h6pJRGwm",
        "colab_type": "text"
      },
      "source": [
        "---\n",
        "\n",
        "_You are currently looking at **version 1.0** of this notebook. To download notebooks and datafiles, as well as get help on Jupyter notebooks in the Coursera platform, visit the [Jupyter Notebook FAQ](https://www.coursera.org/learn/python-text-mining/resources/d9pwm) course resource._\n",
        "\n",
        "---"
      ]
    },
    {
      "cell_type": "markdown",
      "metadata": {
        "id": "FWQKVQXbRGwp",
        "colab_type": "text"
      },
      "source": [
        "# Assignment 2 - Introduction to NLTK\n",
        "\n",
        "In part 1 of this assignment you will use nltk to explore the Herman Melville novel Moby Dick. Then in part 2 you will create a spelling recommender function that uses nltk to find words similar to the misspelling. "
      ]
    },
    {
      "cell_type": "markdown",
      "metadata": {
        "id": "tSRX8ooBRGwt",
        "colab_type": "text"
      },
      "source": [
        "## Part 1 - Analyzing Moby Dick"
      ]
    },
    {
      "cell_type": "code",
      "metadata": {
        "id": "rDMz4wX7RGwz",
        "colab_type": "code",
        "colab": {},
        "outputId": "2c14d9a8-e403-4548-c318-4f7c8badff62"
      },
      "source": [
        "import nltk\n",
        "import pandas as pd\n",
        "import numpy as np\n",
        "\n",
        "nltk.download('punkt')\n",
        "# If you would like to work with the raw text you can use 'moby_raw'\n",
        "with open('moby.txt', 'r') as f:\n",
        "    moby_raw = f.read()\n",
        "    \n",
        "# If you would like to work with the novel in nltk.Text format you can use 'text1'\n",
        "moby_tokens = nltk.word_tokenize(moby_raw)\n",
        "text1 = nltk.Text(moby_tokens)"
      ],
      "execution_count": 0,
      "outputs": [
        {
          "output_type": "stream",
          "text": [
            "[nltk_data] Downloading package punkt to /home/jovyan/nltk_data...\n",
            "[nltk_data]   Unzipping tokenizers/punkt.zip.\n"
          ],
          "name": "stdout"
        }
      ]
    },
    {
      "cell_type": "markdown",
      "metadata": {
        "id": "Y7a6a2RhRGxB",
        "colab_type": "text"
      },
      "source": [
        "### Example 1\n",
        "\n",
        "How many tokens (words and punctuation symbols) are in text1?\n",
        "\n",
        "*This function should return an integer.*"
      ]
    },
    {
      "cell_type": "code",
      "metadata": {
        "id": "eFOH80-dRGxE",
        "colab_type": "code",
        "colab": {},
        "outputId": "2c22bdf3-9c36-49ee-ca3c-e4fcc55a2ca1"
      },
      "source": [
        "def example_one():\n",
        "    \n",
        "    return len(nltk.word_tokenize(moby_raw)) # or alternatively len(text1)\n",
        "\n",
        "example_one()"
      ],
      "execution_count": 0,
      "outputs": [
        {
          "output_type": "execute_result",
          "data": {
            "text/plain": [
              "254989"
            ]
          },
          "metadata": {
            "tags": []
          },
          "execution_count": 4
        }
      ]
    },
    {
      "cell_type": "markdown",
      "metadata": {
        "id": "SrRi7VlLRGxS",
        "colab_type": "text"
      },
      "source": [
        "### Example 2\n",
        "\n",
        "How many unique tokens (unique words and punctuation) does text1 have?\n",
        "\n",
        "*This function should return an integer.*"
      ]
    },
    {
      "cell_type": "code",
      "metadata": {
        "id": "1uyZCUCXRGxV",
        "colab_type": "code",
        "colab": {},
        "outputId": "f5eb5919-caa4-48fe-b949-123319d40a13"
      },
      "source": [
        "def example_two():\n",
        "    \n",
        "    return len(set(nltk.word_tokenize(moby_raw))) # or alternatively len(set(text1))\n",
        "\n",
        "example_two()"
      ],
      "execution_count": 0,
      "outputs": [
        {
          "output_type": "execute_result",
          "data": {
            "text/plain": [
              "20755"
            ]
          },
          "metadata": {
            "tags": []
          },
          "execution_count": 5
        }
      ]
    },
    {
      "cell_type": "markdown",
      "metadata": {
        "id": "HXq2vKRWRGxe",
        "colab_type": "text"
      },
      "source": [
        "### Example 3\n",
        "\n",
        "After lemmatizing the verbs, how many unique tokens does text1 have?\n",
        "\n",
        "*This function should return an integer.*"
      ]
    },
    {
      "cell_type": "code",
      "metadata": {
        "id": "ou0GyLm2RGxj",
        "colab_type": "code",
        "colab": {},
        "outputId": "d24943b6-26d7-42c9-bd2c-fb3079a583c4"
      },
      "source": [
        "nltk.download('wordnet')\n",
        "nltk.download('words')\n",
        "nltk.download('averaged_perceptron_tagger')"
      ],
      "execution_count": 0,
      "outputs": [
        {
          "output_type": "stream",
          "text": [
            "[nltk_data] Downloading package wordnet to /home/jovyan/nltk_data...\n",
            "[nltk_data]   Package wordnet is already up-to-date!\n",
            "[nltk_data] Downloading package words to /home/jovyan/nltk_data...\n",
            "[nltk_data]   Unzipping corpora/words.zip.\n",
            "[nltk_data] Downloading package averaged_perceptron_tagger to\n",
            "[nltk_data]     /home/jovyan/nltk_data...\n",
            "[nltk_data]   Package averaged_perceptron_tagger is already up-to-\n",
            "[nltk_data]       date!\n"
          ],
          "name": "stdout"
        },
        {
          "output_type": "execute_result",
          "data": {
            "text/plain": [
              "True"
            ]
          },
          "metadata": {
            "tags": []
          },
          "execution_count": 75
        }
      ]
    },
    {
      "cell_type": "code",
      "metadata": {
        "id": "szRgFIMmRGxr",
        "colab_type": "code",
        "colab": {},
        "outputId": "fdc40619-ae35-4e26-fdda-1cfd07172504"
      },
      "source": [
        "from nltk.stem import WordNetLemmatizer\n",
        "\n",
        "def example_three():\n",
        "\n",
        "    lemmatizer = WordNetLemmatizer()\n",
        "    lemmatized = [lemmatizer.lemmatize(w,'v') for w in text1]\n",
        "\n",
        "    return len(set(lemmatized))\n",
        "\n",
        "example_three()"
      ],
      "execution_count": 0,
      "outputs": [
        {
          "output_type": "execute_result",
          "data": {
            "text/plain": [
              "16900"
            ]
          },
          "metadata": {
            "tags": []
          },
          "execution_count": 8
        }
      ]
    },
    {
      "cell_type": "markdown",
      "metadata": {
        "id": "RaEpEQdnRGx5",
        "colab_type": "text"
      },
      "source": [
        "### Question 1\n",
        "\n",
        "What is the lexical diversity of the given text input? (i.e. ratio of unique tokens to the total number of tokens)\n",
        "\n",
        "*This function should return a float.*"
      ]
    },
    {
      "cell_type": "code",
      "metadata": {
        "id": "R24wdm65RGx7",
        "colab_type": "code",
        "colab": {},
        "outputId": "590cf465-1750-44d5-aad5-e0408751c69b"
      },
      "source": [
        "def answer_one():\n",
        "    return (len(set(nltk.word_tokenize(moby_raw)))/len(nltk.word_tokenize(moby_raw)))\n",
        "\n",
        "answer_one()"
      ],
      "execution_count": 0,
      "outputs": [
        {
          "output_type": "execute_result",
          "data": {
            "text/plain": [
              "0.08139566804842562"
            ]
          },
          "metadata": {
            "tags": []
          },
          "execution_count": 10
        }
      ]
    },
    {
      "cell_type": "markdown",
      "metadata": {
        "id": "mb6ucAXHRGy2",
        "colab_type": "text"
      },
      "source": [
        "### Question 2\n",
        "\n",
        "What percentage of tokens is 'whale'or 'Whale'?\n",
        "\n",
        "*This function should return a float.*"
      ]
    },
    {
      "cell_type": "code",
      "metadata": {
        "id": "lp-YA83WRGy7",
        "colab_type": "code",
        "colab": {},
        "outputId": "7bea3da7-6c4e-4346-9fae-5bee468da79a"
      },
      "source": [
        "from nltk import FreqDist\n",
        "def answer_two():\n",
        "    dist = FreqDist(text1)\n",
        "    x = dist['whale']+dist['Whale']\n",
        "    \n",
        "    \n",
        "    return (x/len(nltk.word_tokenize(moby_raw)))*100\n",
        "\n",
        "answer_two()"
      ],
      "execution_count": 0,
      "outputs": [
        {
          "output_type": "execute_result",
          "data": {
            "text/plain": [
              "0.4125668166077752"
            ]
          },
          "metadata": {
            "tags": []
          },
          "execution_count": 52
        }
      ]
    },
    {
      "cell_type": "markdown",
      "metadata": {
        "id": "2BIbMfeFRGzG",
        "colab_type": "text"
      },
      "source": [
        "### Question 3\n",
        "\n",
        "What are the 20 most frequently occurring (unique) tokens in the text? What is their frequency?\n",
        "\n",
        "*This function should return a list of 20 tuples where each tuple is of the form `(token, frequency)`. The list should be sorted in descending order of frequency.*"
      ]
    },
    {
      "cell_type": "code",
      "metadata": {
        "id": "a6zOBY10RGzI",
        "colab_type": "code",
        "colab": {},
        "outputId": "d6117097-5952-485b-bf1e-3bc31e35d36c"
      },
      "source": [
        "def answer_three():\n",
        "    \n",
        "    dist = FreqDist(text1)\n",
        "    vocab1 = dist.keys()\n",
        "    ss = []\n",
        "    for x in vocab1:\n",
        "        ss.append(tuple([x,dist[x]]))\n",
        "    x = sorted(ss,key=lambda x: x[1],reverse=True)\n",
        "    return x[:20]\n",
        "\n",
        "answer_three()"
      ],
      "execution_count": 0,
      "outputs": [
        {
          "output_type": "execute_result",
          "data": {
            "text/plain": [
              "[(',', 19204),\n",
              " ('the', 13715),\n",
              " ('.', 7308),\n",
              " ('of', 6513),\n",
              " ('and', 6010),\n",
              " ('a', 4545),\n",
              " ('to', 4515),\n",
              " (';', 4173),\n",
              " ('in', 3908),\n",
              " ('that', 2978),\n",
              " ('his', 2459),\n",
              " ('it', 2196),\n",
              " ('I', 2097),\n",
              " ('!', 1767),\n",
              " ('is', 1722),\n",
              " ('--', 1713),\n",
              " ('with', 1659),\n",
              " ('he', 1658),\n",
              " ('was', 1639),\n",
              " ('as', 1620)]"
            ]
          },
          "metadata": {
            "tags": []
          },
          "execution_count": 44
        }
      ]
    },
    {
      "cell_type": "markdown",
      "metadata": {
        "id": "CyVmV-EMRGzO",
        "colab_type": "text"
      },
      "source": [
        "### Question 4\n",
        "\n",
        "What tokens have a length of greater than 5 and frequency of more than 150?\n",
        "\n",
        "*This function should return an alphabetically sorted list of the tokens that match the above constraints. To sort your list, use `sorted()`*"
      ]
    },
    {
      "cell_type": "code",
      "metadata": {
        "id": "2QqZyZ0ARGzS",
        "colab_type": "code",
        "colab": {},
        "outputId": "d71158c4-ae1d-4740-99d7-4bedfb5d4a8a"
      },
      "source": [
        "def answer_four():\n",
        "    dist = FreqDist(text1)\n",
        "    vocab1 = dist.keys()\n",
        "    freqwords = [w for w in vocab1 if len(w) > 5 and dist[w] > 150]\n",
        "    \n",
        "    return sorted(freqwords)\n",
        "\n",
        "answer_four()"
      ],
      "execution_count": 0,
      "outputs": [
        {
          "output_type": "execute_result",
          "data": {
            "text/plain": [
              "['Captain',\n",
              " 'Pequod',\n",
              " 'Queequeg',\n",
              " 'Starbuck',\n",
              " 'almost',\n",
              " 'before',\n",
              " 'himself',\n",
              " 'little',\n",
              " 'seemed',\n",
              " 'should',\n",
              " 'though',\n",
              " 'through',\n",
              " 'whales',\n",
              " 'without']"
            ]
          },
          "metadata": {
            "tags": []
          },
          "execution_count": 51
        }
      ]
    },
    {
      "cell_type": "markdown",
      "metadata": {
        "id": "3_6QhDihRGzc",
        "colab_type": "text"
      },
      "source": [
        "### Question 5\n",
        "\n",
        "Find the longest word in text1 and that word's length.\n",
        "\n",
        "*This function should return a tuple `(longest_word, length)`.*"
      ]
    },
    {
      "cell_type": "code",
      "metadata": {
        "id": "MVgspg7xRGzd",
        "colab_type": "code",
        "colab": {},
        "outputId": "a40c4cc0-a8b7-45dd-adc6-12cc14b610dc"
      },
      "source": [
        "def answer_five():\n",
        "    \n",
        "    dist = FreqDist(text1)\n",
        "    vocab1 = dist.keys()\n",
        "\n",
        "    sz = 0\n",
        "    lt = \"\"\n",
        "    for x in vocab1:\n",
        "        if(sz<len(x)):\n",
        "            sz = len(x)\n",
        "            lt = x\n",
        "\n",
        "    return (lt,sz)\n",
        "\n",
        "answer_five()"
      ],
      "execution_count": 0,
      "outputs": [
        {
          "output_type": "execute_result",
          "data": {
            "text/plain": [
              "(\"twelve-o'clock-at-night\", 23)"
            ]
          },
          "metadata": {
            "tags": []
          },
          "execution_count": 58
        }
      ]
    },
    {
      "cell_type": "markdown",
      "metadata": {
        "id": "1L-d2YonRGzo",
        "colab_type": "text"
      },
      "source": [
        "### Question 6\n",
        "\n",
        "What unique words have a frequency of more than 2000? What is their frequency?\n",
        "\n",
        "\"Hint:  you may want to use `isalpha()` to check if the token is a word and not punctuation.\"\n",
        "\n",
        "*This function should return a list of tuples of the form `(frequency, word)` sorted in descending order of frequency.*"
      ]
    },
    {
      "cell_type": "code",
      "metadata": {
        "id": "BtenlG3aRGzz",
        "colab_type": "code",
        "colab": {},
        "outputId": "cd770191-cb1a-4b35-d65c-a3c3a4ec38e0"
      },
      "source": [
        "import re\n",
        "import operator\n",
        "def answer_six():\n",
        "    fun = lambda x: str.isalpha(x)\n",
        "    \n",
        "    dist = nltk.FreqDist(text1)\n",
        "\n",
        "    final_list = list(map(fun,list(dist.keys())))\n",
        "    final_keys = np.asarray(list(dist.keys()))[final_list]\n",
        "    dist_again = { dist[your_key]: your_key  for your_key in final_keys if dist[your_key] > 2000}\n",
        "    sorted_x = sorted(dist_again.items(),key=operator.itemgetter(0))\n",
        "    sorted_x.reverse()\n",
        "    \n",
        "    return sorted_x\n",
        "\n",
        "answer_six()"
      ],
      "execution_count": 0,
      "outputs": [
        {
          "output_type": "execute_result",
          "data": {
            "text/plain": [
              "[(13715, 'the'),\n",
              " (6513, 'of'),\n",
              " (6010, 'and'),\n",
              " (4545, 'a'),\n",
              " (4515, 'to'),\n",
              " (3908, 'in'),\n",
              " (2978, 'that'),\n",
              " (2459, 'his'),\n",
              " (2196, 'it'),\n",
              " (2097, 'I')]"
            ]
          },
          "metadata": {
            "tags": []
          },
          "execution_count": 78
        }
      ]
    },
    {
      "cell_type": "markdown",
      "metadata": {
        "id": "N8cDIyFsRGz9",
        "colab_type": "text"
      },
      "source": [
        "### Question 7\n",
        "\n",
        "What is the average number of tokens per sentence?\n",
        "\n",
        "*This function should return a float.*"
      ]
    },
    {
      "cell_type": "code",
      "metadata": {
        "id": "U4yKbXs8RG0C",
        "colab_type": "code",
        "colab": {},
        "outputId": "87b5e7d2-6f1b-4edd-d2a5-55508d2b05c1"
      },
      "source": [
        "from nltk.tokenize import sent_tokenize\n",
        "from nltk.tokenize import word_tokenize\n",
        "def answer_seven():\n",
        "    moby_sentence = sent_tokenize(moby_raw)\n",
        "    again = [word_tokenize(i) for i in moby_sentence]\n",
        "    numbers = []\n",
        "    for i in again:\n",
        "        numbers.append(len(i))\n",
        "    return np.mean(numbers)\n",
        "    \n",
        "    \n",
        "\n",
        "answer_seven()"
      ],
      "execution_count": 0,
      "outputs": [
        {
          "output_type": "execute_result",
          "data": {
            "text/plain": [
              "25.881952902963864"
            ]
          },
          "metadata": {
            "tags": []
          },
          "execution_count": 66
        }
      ]
    },
    {
      "cell_type": "markdown",
      "metadata": {
        "id": "lruqAniWRG0P",
        "colab_type": "text"
      },
      "source": [
        "### Question 8\n",
        "\n",
        "What are the 5 most frequent parts of speech in this text? What is their frequency?\n",
        "\n",
        "*This function should return a list of tuples of the form `(part_of_speech, frequency)` sorted in descending order of frequency.*"
      ]
    },
    {
      "cell_type": "code",
      "metadata": {
        "id": "iPq9L1g-RG0T",
        "colab_type": "code",
        "colab": {},
        "outputId": "2ecc02d1-d8bb-4e21-db7c-3028b65798be"
      },
      "source": [
        "def answer_eight():\n",
        "    parts_of_speech = nltk.pos_tag(text1)\n",
        "    count = nltk.FreqDist(tag for (word, tag) in parts_of_speech)\n",
        "    answer = count.most_common()[:5]\n",
        "    #output = [i for i in answer if i[0]!=',']\n",
        "    return answer\n",
        "    \n",
        "    \n",
        "\n",
        "answer_eight()"
      ],
      "execution_count": 0,
      "outputs": [
        {
          "output_type": "execute_result",
          "data": {
            "text/plain": [
              "[('NN', 32730), ('IN', 28657), ('DT', 25867), (',', 19204), ('JJ', 17620)]"
            ]
          },
          "metadata": {
            "tags": []
          },
          "execution_count": 79
        }
      ]
    },
    {
      "cell_type": "markdown",
      "metadata": {
        "id": "34nbUBwsRG0u",
        "colab_type": "text"
      },
      "source": [
        "## Part 2 - Spelling Recommender\n",
        "\n",
        "For this part of the assignment you will create three different spelling recommenders, that each take a list of misspelled words and recommends a correctly spelled word for every word in the list.\n",
        "\n",
        "For every misspelled word, the recommender should find find the word in `correct_spellings` that has the shortest distance*, and starts with the same letter as the misspelled word, and return that word as a recommendation.\n",
        "\n",
        "*Each of the three different recommenders will use a different distance measure (outlined below).\n",
        "\n",
        "Each of the recommenders should provide recommendations for the three default words provided: `['cormulent', 'incendenece', 'validrate']`."
      ]
    },
    {
      "cell_type": "code",
      "metadata": {
        "id": "MTNJhN92RG1D",
        "colab_type": "code",
        "colab": {}
      },
      "source": [
        "from nltk.corpus import words\n",
        "\n",
        "correct_spellings = words.words()"
      ],
      "execution_count": 0,
      "outputs": []
    },
    {
      "cell_type": "markdown",
      "metadata": {
        "id": "V5bwoR3lRG1T",
        "colab_type": "text"
      },
      "source": [
        "### Question 9\n",
        "\n",
        "For this recommender, your function should provide recommendations for the three default words provided above using the following distance metric:\n",
        "\n",
        "**[Jaccard distance](https://en.wikipedia.org/wiki/Jaccard_index) on the trigrams of the two words.**\n",
        "\n",
        "*This function should return a list of length three:\n",
        "`['cormulent_reccomendation', 'incendenece_reccomendation', 'validrate_reccomendation']`.*"
      ]
    },
    {
      "cell_type": "code",
      "metadata": {
        "id": "ubqsLPcFRG1e",
        "colab_type": "code",
        "colab": {},
        "outputId": "39a10cf5-d68e-4170-cb51-6729e17ed8bc"
      },
      "source": [
        "def answer_nine(entries=['cormulent', 'incendenece', 'validrate']):\n",
        "    correct_spellings = words.words()\n",
        "    f = lambda x: x[0].lower()\n",
        "    final=[]\n",
        "    for j in entries:\n",
        "        word = j\n",
        "        first_letter=np.array(list(map(f,correct_spellings)))\n",
        "        indx = np.where(first_letter==word[0])\n",
        "        correct_spellings = np.asarray(correct_spellings)\n",
        "        dictionary = correct_spellings[indx]\n",
        "\n",
        "        set1 = set(nltk.ngrams(word,n=3))\n",
        "        s=1\n",
        "        for spelling in dictionary:\n",
        "            set_ex = set(nltk.ngrams(spelling,n=3))\n",
        "            if nltk.distance.jaccard_distance(set1,set_ex) < s:\n",
        "                s=nltk.distance.jaccard_distance(set1,set_ex)\n",
        "                answer = spelling\n",
        "        final.append(answer)\n",
        "    return final\n",
        "    \n",
        "answer_nine()"
      ],
      "execution_count": 0,
      "outputs": [
        {
          "output_type": "stream",
          "text": [
            "/opt/conda/lib/python3.6/site-packages/ipykernel_launcher.py:16: DeprecationWarning: generator 'ngrams' raised StopIteration\n",
            "  app.launch_new_instance()\n"
          ],
          "name": "stderr"
        },
        {
          "output_type": "execute_result",
          "data": {
            "text/plain": [
              "['corpulent', 'indecence', 'validate']"
            ]
          },
          "metadata": {
            "tags": []
          },
          "execution_count": 80
        }
      ]
    },
    {
      "cell_type": "markdown",
      "metadata": {
        "id": "StewaIuERG1s",
        "colab_type": "text"
      },
      "source": [
        "### Question 10\n",
        "\n",
        "For this recommender, your function should provide recommendations for the three default words provided above using the following distance metric:\n",
        "\n",
        "**[Jaccard distance](https://en.wikipedia.org/wiki/Jaccard_index) on the 4-grams of the two words.**\n",
        "\n",
        "*This function should return a list of length three:\n",
        "`['cormulent_reccomendation', 'incendenece_reccomendation', 'validrate_reccomendation']`.*"
      ]
    },
    {
      "cell_type": "code",
      "metadata": {
        "id": "XNmhU-sHRG10",
        "colab_type": "code",
        "colab": {},
        "outputId": "83a2d8f6-b7cd-4737-b981-32bd3143aac3"
      },
      "source": [
        "def answer_ten(entries=['cormulent', 'incendenece', 'validrate']):\n",
        "    correct_spellings = words.words()\n",
        "    f = lambda x: x[0].lower()\n",
        "    final=[]\n",
        "    for j in entries:\n",
        "        word = j\n",
        "        first_letter=np.array(list(map(f,correct_spellings)))\n",
        "        indx = np.where(first_letter==word[0])\n",
        "        correct_spellings = np.asarray(correct_spellings)\n",
        "        dictionary = correct_spellings[indx]\n",
        "\n",
        "        set1 = set(nltk.ngrams(word,n=4))\n",
        "        s=1\n",
        "        for spelling in dictionary:\n",
        "            set_ex = set(nltk.ngrams(spelling,n=4))\n",
        "            if nltk.distance.jaccard_distance(set1,set_ex) < s:\n",
        "                s=nltk.distance.jaccard_distance(set1,set_ex)\n",
        "                answer = spelling\n",
        "        final.append(answer)\n",
        "    return final\n",
        "    \n",
        "    return # Your answer here\n",
        "    \n",
        "answer_ten()"
      ],
      "execution_count": 0,
      "outputs": [
        {
          "output_type": "stream",
          "text": [
            "/opt/conda/lib/python3.6/site-packages/ipykernel_launcher.py:15: DeprecationWarning: generator 'ngrams' raised StopIteration\n",
            "  from ipykernel import kernelapp as app\n"
          ],
          "name": "stderr"
        },
        {
          "output_type": "execute_result",
          "data": {
            "text/plain": [
              "['cormus', 'incendiary', 'valid']"
            ]
          },
          "metadata": {
            "tags": []
          },
          "execution_count": 81
        }
      ]
    },
    {
      "cell_type": "markdown",
      "metadata": {
        "id": "ZLWx7IUPRG2Q",
        "colab_type": "text"
      },
      "source": [
        "### Question 11\n",
        "\n",
        "For this recommender, your function should provide recommendations for the three default words provided above using the following distance metric:\n",
        "\n",
        "**[Edit distance on the two words with transpositions.](https://en.wikipedia.org/wiki/Damerau%E2%80%93Levenshtein_distance)**\n",
        "\n",
        "*This function should return a list of length three:\n",
        "`['cormulent_reccomendation', 'incendenece_reccomendation', 'validrate_reccomendation']`.*"
      ]
    },
    {
      "cell_type": "code",
      "metadata": {
        "id": "cNdIIEdLRG2U",
        "colab_type": "code",
        "colab": {},
        "outputId": "fb807bdc-5a1b-4056-eb87-41a9a4b9ab94"
      },
      "source": [
        "def answer_eleven(entries=['cormulent', 'incendenece', 'validrate']):\n",
        "    correct_spellings = words.words()\n",
        "    f = lambda x: x[0].lower()\n",
        "    final=[]\n",
        "    for j in entries:\n",
        "        word = j\n",
        "        first_letter=np.array(list(map(f,correct_spellings)))\n",
        "        indx = np.where(first_letter==word[0])\n",
        "        correct_spellings = np.asarray(correct_spellings)\n",
        "        dictionary = correct_spellings[indx]\n",
        "        s=10\n",
        "        for spelling in dictionary:\n",
        "            if nltk.distance.edit_distance(word,spelling) < s:\n",
        "                s=nltk.distance.edit_distance(word,spelling)\n",
        "                answer = spelling\n",
        "        final.append(answer)\n",
        "    return final\n",
        "    \n",
        "\n",
        "    \n",
        "answer_eleven()"
      ],
      "execution_count": 0,
      "outputs": [
        {
          "output_type": "execute_result",
          "data": {
            "text/plain": [
              "['corpulent', 'intendence', 'validate']"
            ]
          },
          "metadata": {
            "tags": []
          },
          "execution_count": 96
        }
      ]
    }
  ]
}